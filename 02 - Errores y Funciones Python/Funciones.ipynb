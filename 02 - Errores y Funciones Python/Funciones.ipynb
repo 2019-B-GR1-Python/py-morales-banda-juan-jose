{
 "cells": [
  {
   "cell_type": "code",
   "execution_count": 3,
   "metadata": {},
   "outputs": [
    {
     "name": "stdout",
     "output_type": "stream",
     "text": [
      "Hola Juan José\n",
      "Hola Juan José\n"
     ]
    },
    {
     "data": {
      "text/plain": [
       "NoneType"
      ]
     },
     "execution_count": 3,
     "metadata": {},
     "output_type": "execute_result"
    }
   ],
   "source": [
    "# Funciones\n",
    "def hola_mundo():\n",
    "    print(\"Hola Juan José\")\n",
    "hola_mundo()\n",
    "type(hola_mundo())"
   ]
  },
  {
   "cell_type": "code",
   "execution_count": 11,
   "metadata": {},
   "outputs": [
    {
     "name": "stdout",
     "output_type": "stream",
     "text": [
      "3\n",
      "suma 3\n"
     ]
    }
   ],
   "source": [
    "def sumar_dos_numeros(num_uno, num_dos):\n",
    "    return num_uno + num_dos\n",
    "suma = sumar_dos_numeros(1,2)\n",
    "print(suma)\n",
    "print(f\"suma: {suma}\")"
   ]
  },
  {
   "cell_type": "code",
   "execution_count": 14,
   "metadata": {},
   "outputs": [
    {
     "name": "stdout",
     "output_type": "stream",
     "text": [
      "Nombre EPN\n",
      "Nombre ESPE\n"
     ]
    }
   ],
   "source": [
    "def imprimir_universidad(nombre = 'EPN'):\n",
    "    print(f\"Nombre: {nombre}\")\n",
    "imprimir_universidad()\n",
    "imprimir_universidad(\"ESPE\")"
   ]
  },
  {
   "cell_type": "code",
   "execution_count": 25,
   "metadata": {},
   "outputs": [
    {
     "name": "stdout",
     "output_type": "stream",
     "text": [
      "color: azul\n",
      "placa: POE-1484\n",
      "hp: 80\n",
      "anio: 2015\n",
      "\n",
      "color: Amazul\n",
      "placa: PBO-1478\n",
      "hp: 3500\n",
      "anio: 2005\n",
      "\n",
      "color: Negro\n",
      "placa: PIR-5867\n",
      "hp: 400\n",
      "anio: 2010\n",
      "\n",
      "color: Negro\n",
      "placa: GYE-8147\n",
      "hp: 60\n",
      "anio: 1990\n",
      "\n"
     ]
    }
   ],
   "source": [
    "def imprimir_carro(color, placa, hp, anio=1990):\n",
    "    print(f\"color: {color}\")\n",
    "    print(f\"placa: {placa}\")\n",
    "    print(f\"hp: {hp}\")\n",
    "    print(f\"anio: {anio}\\n\")\n",
    "imprimir_carro(\"azul\", \"POE-1484\", 80, 2015)\n",
    "imprimir_carro(anio=2005, color=\"Amazul\", placa=\"PBO-1478\", hp=3500)\n",
    "imprimir_carro(\"Negro\", \"PIR-5867\", anio=2010, hp=400)\n",
    "imprimir_carro(\"Negro\", hp=60, placa=\"GYE-8147\")"
   ]
  },
  {
   "cell_type": "code",
   "execution_count": 34,
   "metadata": {},
   "outputs": [
    {
     "data": {
      "text/plain": [
       "12"
      ]
     },
     "execution_count": 34,
     "metadata": {},
     "output_type": "execute_result"
    }
   ],
   "source": [
    "# suma de infinitos números\n",
    "# Parámetros Infinitos\n",
    "def sumar_numeros(primer_numero, *numeros):\n",
    "    longitud = len(numeros)\n",
    "    if(longitud == 0):\n",
    "        return primer_numero\n",
    "    else:\n",
    "        suma = primer_numero\n",
    "        for numero in numeros:\n",
    "            suma = suma + numero\n",
    "        return suma\n",
    "sumar_numeros(1,2,5,4)"
   ]
  },
  {
   "cell_type": "code",
   "execution_count": 36,
   "metadata": {},
   "outputs": [
    {
     "data": {
      "text/plain": [
       "12"
      ]
     },
     "execution_count": 36,
     "metadata": {},
     "output_type": "execute_result"
    }
   ],
   "source": [
    "# No es buena idea poner un parámetro infinito al inicio\n",
    "def sumar_numeros(*numeros, primer_numero):\n",
    "    longitud = len(numeros)\n",
    "    if(longitud == 0):\n",
    "        return primer_numero\n",
    "    else:\n",
    "        suma = primer_numero\n",
    "        for numero in numeros:\n",
    "            suma = suma + numero\n",
    "        return suma\n",
    "sumar_numeros(1, 2, 5, primer_numero = 4)"
   ]
  },
  {
   "cell_type": "code",
   "execution_count": 37,
   "metadata": {},
   "outputs": [
    {
     "ename": "SyntaxError",
     "evalue": "invalid syntax (<ipython-input-37-a62bf6e40e29>, line 1)",
     "output_type": "error",
     "traceback": [
      "\u001b[1;36m  File \u001b[1;32m\"<ipython-input-37-a62bf6e40e29>\"\u001b[1;36m, line \u001b[1;32m1\u001b[0m\n\u001b[1;33m    def sumar_numeros(primer_numero, *numeros, *tuplas):\u001b[0m\n\u001b[1;37m                                               ^\u001b[0m\n\u001b[1;31mSyntaxError\u001b[0m\u001b[1;31m:\u001b[0m invalid syntax\n"
     ]
    }
   ],
   "source": [
    "def sumar_numeros(primer_numero, *numeros, *tuplas):\n",
    "    print(type(numeros))\n",
    "    print(type(tuplas))\n",
    "    longitud = len(numeros)\n",
    "    if(longitud == 0):\n",
    "        return primer_numero\n",
    "    else:\n",
    "        suma = primer_numero\n",
    "        for numero in numeros:\n",
    "            suma = suma + numero\n",
    "        return suma\n",
    "sumar_numeros(1, 2, 5, 4)"
   ]
  },
  {
   "cell_type": "code",
   "execution_count": 44,
   "metadata": {},
   "outputs": [
    {
     "name": "stdout",
     "output_type": "stream",
     "text": [
      "<class 'dict'>\n",
      "{'tiempo': 40, 'demora': 12, 'carga': 'llena'}\n"
     ]
    }
   ],
   "source": [
    "def imprimir_configuracion (nombre, \n",
    "                            valor = 10, \n",
    "                            *valores_carga, \n",
    "                            **key_word_arguments):\n",
    "    print(type(key_word_arguments))\n",
    "    print(key_word_arguments)\n",
    "imprimir_configuracion(nombre = \"config_1\", \n",
    "                       valor = 10, \n",
    "                       tiempo = 40, \n",
    "                       demora = 12, \n",
    "                       carga = \"llena\")\n"
   ]
  },
  {
   "cell_type": "code",
   "execution_count": null,
   "metadata": {},
   "outputs": [],
   "source": []
  },
  {
   "cell_type": "code",
   "execution_count": null,
   "metadata": {},
   "outputs": [],
   "source": []
  }
 ],
 "metadata": {
  "kernelspec": {
   "display_name": "Python 3",
   "language": "python",
   "name": "python3"
  },
  "language_info": {
   "codemirror_mode": {
    "name": "ipython",
    "version": 3
   },
   "file_extension": ".py",
   "mimetype": "text/x-python",
   "name": "python",
   "nbconvert_exporter": "python",
   "pygments_lexer": "ipython3",
   "version": "3.7.3"
  }
 },
 "nbformat": 4,
 "nbformat_minor": 2
}
