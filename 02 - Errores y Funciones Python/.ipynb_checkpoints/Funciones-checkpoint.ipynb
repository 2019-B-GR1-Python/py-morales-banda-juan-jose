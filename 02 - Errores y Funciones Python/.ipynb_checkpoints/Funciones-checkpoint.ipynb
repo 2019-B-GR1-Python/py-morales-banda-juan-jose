{
 "cells": [
  {
   "cell_type": "code",
   "execution_count": 3,
   "metadata": {},
   "outputs": [
    {
     "name": "stdout",
     "output_type": "stream",
     "text": [
      "Hola Juan José\n",
      "Hola Juan José\n"
     ]
    },
    {
     "data": {
      "text/plain": [
       "NoneType"
      ]
     },
     "execution_count": 3,
     "metadata": {},
     "output_type": "execute_result"
    }
   ],
   "source": [
    "# Funciones\n",
    "def hola_mundo():\n",
    "    print(\"Hola Juan José\")\n",
    "hola_mundo()\n",
    "type(hola_mundo())"
   ]
  },
  {
   "cell_type": "code",
   "execution_count": 11,
   "metadata": {},
   "outputs": [
    {
     "name": "stdout",
     "output_type": "stream",
     "text": [
      "3\n",
      "suma 3\n"
     ]
    }
   ],
   "source": [
    "def sumar_dos_numeros(num_uno, num_dos):\n",
    "    return num_uno + num_dos\n",
    "suma = sumar_dos_numeros(1,2)\n",
    "print(suma)\n",
    "print(f\"suma {suma}\")"
   ]
  },
  {
   "cell_type": "code",
   "execution_count": 13,
   "metadata": {},
   "outputs": [
    {
     "name": "stdout",
     "output_type": "stream",
     "text": [
      "Nombre EPN\n"
     ]
    }
   ],
   "source": [
    "def imprimir_universidad(nombre = 'EPN'):\n",
    "    print(f\"Nombre {nombre}\")\n",
    "imprimir_universidad()"
   ]
  },
  {
   "cell_type": "code",
   "execution_count": null,
   "metadata": {},
   "outputs": [],
   "source": []
  }
 ],
 "metadata": {
  "kernelspec": {
   "display_name": "Python 3",
   "language": "python",
   "name": "python3"
  },
  "language_info": {
   "codemirror_mode": {
    "name": "ipython",
    "version": 3
   },
   "file_extension": ".py",
   "mimetype": "text/x-python",
   "name": "python",
   "nbconvert_exporter": "python",
   "pygments_lexer": "ipython3",
   "version": "3.7.3"
  }
 },
 "nbformat": 4,
 "nbformat_minor": 2
}
