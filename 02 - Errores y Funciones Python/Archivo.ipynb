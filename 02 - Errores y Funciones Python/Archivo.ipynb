{
 "cells": [
  {
   "cell_type": "code",
   "execution_count": 9,
   "metadata": {},
   "outputs": [
    {
     "name": "stdout",
     "output_type": "stream",
     "text": [
      "L1: Omae Wa Mou Shindeiru\n",
      "\n",
      "L2: Nani?\n",
      "\n",
      "L3: *Se murio*\n",
      "L4: \n",
      "<class 'str'>\n"
     ]
    }
   ],
   "source": [
    "# Archivos\n",
    "try:\n",
    "    path = \"./Frases.txt\"\n",
    "    archivo_abierto = open(path)\n",
    "    linea_uno = archivo_abierto.readline()\n",
    "    print(f\"L1: {linea_uno}\")\n",
    "    linea_dos = archivo_abierto.readline()\n",
    "    print(f\"L2: {linea_dos}\")\n",
    "    linea_tres = archivo_abierto.readline()\n",
    "    print(f\"L3: {linea_tres}\")\n",
    "    linea_cuatro = archivo_abierto.readline()\n",
    "    print(f\"L4: {linea_cuatro}\")\n",
    "    print(type(linea_cuatro))\n",
    "    archivo_abierto.close()\n",
    "    \n",
    "except Exception as error:\n",
    "    print(\"Error\")"
   ]
  },
  {
   "cell_type": "code",
   "execution_count": 14,
   "metadata": {},
   "outputs": [
    {
     "name": "stdout",
     "output_type": "stream",
     "text": [
      "Contenido: ['Omae Wa Mou Shindeiru\\n', 'Nani?\\n', '*Se muere*wenas\\n', 'ABC\\n', 'DEF\\n']\n",
      "<class 'list'>\n",
      "Omae Wa Mou Shindeiru\n",
      "\n",
      "Nani?\n",
      "\n",
      "*Se muere*wenas\n",
      "\n",
      "ABC\n",
      "\n",
      "DEF\n",
      "\n"
     ]
    }
   ],
   "source": [
    "try:\n",
    "    path = \"./Frases.txt\"\n",
    "    archivo_abierto = open(path)\n",
    "    contenido = archivo_abierto.readlines()\n",
    "    print(f\"Contenido: {contenido}\")\n",
    "    print(type(contenido))\n",
    "    for linea in contenido:\n",
    "        print(linea)\n",
    "    archivo_abierto.close()\n",
    "    \n",
    "except Exception as error:\n",
    "    print(\"Error\")"
   ]
  },
  {
   "cell_type": "code",
   "execution_count": 13,
   "metadata": {},
   "outputs": [],
   "source": [
    "# Escribir archivos\n",
    "try:\n",
    "    path = \"./Frases.txt\"\n",
    "    archivo_escritura_abierto = open(path, mode = \"a\")\n",
    "    # a -> Append\n",
    "    # w -> Write (Sobre escribe)\n",
    "    archivo_escritura_abierto.writelines(\"\\nwenas\\n\")\n",
    "    archivo_escritura_abierto.writelines([\"ABC\\n\", \"DEF\\n\"])\n",
    "    archivo_escritura_abierto.close()\n",
    "    \n",
    "except Exception as error:\n",
    "    print(\"Error\")"
   ]
  },
  {
   "cell_type": "code",
   "execution_count": null,
   "metadata": {},
   "outputs": [],
   "source": []
  }
 ],
 "metadata": {
  "kernelspec": {
   "display_name": "Python 3",
   "language": "python",
   "name": "python3"
  },
  "language_info": {
   "codemirror_mode": {
    "name": "ipython",
    "version": 3
   },
   "file_extension": ".py",
   "mimetype": "text/x-python",
   "name": "python",
   "nbconvert_exporter": "python",
   "pygments_lexer": "ipython3",
   "version": "3.7.3"
  }
 },
 "nbformat": 4,
 "nbformat_minor": 2
}
