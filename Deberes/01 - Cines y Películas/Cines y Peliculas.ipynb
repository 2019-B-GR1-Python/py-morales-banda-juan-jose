{
 "cells": [
  {
   "cell_type": "code",
   "execution_count": null,
   "metadata": {},
   "outputs": [],
   "source": [
    "class Cine:\n",
    "    ciudad = \"Quito\"\n",
    "    nombre = None\n",
    "    sala = 1\n",
    "    precio = 0\n",
    "          \n",
    "    def guardar(self):\n",
    "        print(\"llega\")\n",
    "        try:\n",
    "            path = \"./cines.txt\"       \n",
    "            archivo_escritura_abierto = open(path, mode = \"a\")\n",
    "            archivo_escritura_abierto.writelines([f\"{self.ciudad}\\n\", \n",
    "                                                          f\"{self.nombre}\\n\",\n",
    "                                                          f\"{self.sala}\\n\",\n",
    "                                                          f\"{self.precio}\\n\\n\"])\n",
    "            archivo_escritura_abierto.close()   \n",
    "        except Exception as error:\n",
    "            print(\"Error\")\n",
    "        return \"Cine Guardado Exitosamente\"\n",
    "        \n",
    "    def leer(self):\n",
    "        try:\n",
    "            path = \"./cines.txt\"\n",
    "            archivo_lectura_abierto = open(path)\n",
    "            contenido = archivo_lectura_abierto.readlines()\n",
    "            #print(f\"Contenido: {contenido}\")\n",
    "            for linea in contenido:\n",
    "                print(linea)                       \n",
    "            archivo_lectura_abierto.close()\n",
    "        except Exception as error:\n",
    "            print(\"Error\")\n",
    "        \n",
    "    def actualizar(self):\n",
    "            try:\n",
    "                buscador = (input(\"Ingrese la ciudad del cine deseado: \"))\n",
    "                path = \"./cines.txt\"\n",
    "                archivo_lectura_abierto = open(path)\n",
    "                contenido = archivo_lectura_abierto.readlines()\n",
    "                for linea in contenido:\n",
    "                    if (linea == buscador):\n",
    "                        for i in range(4):\n",
    "                            print(linea)\n",
    "                archivo_lectura_abierto.close()\n",
    "            except Exception as error:\n",
    "                print(\"Error\")"
   ]
  },
  {
   "cell_type": "code",
   "execution_count": null,
   "metadata": {},
   "outputs": [],
   "source": [
    "def menu(opcion_inicial=\"4\"):\n",
    "    print(\"1 - Cines\")\n",
    "    print(\"2 - Películas\")\n",
    "    opcion_inicial = (input(\"Elija una opción (números): \"))\n",
    "    def cines():\n",
    "        if(opcion_inicial == \"1\"):\n",
    "            print(\"----- CINES -----\\n\" +\n",
    "               \"1 - Guardar\\n\" +\n",
    "               \"2 - Leer\\n\" +\n",
    "               \"3 - Actualizar\\n\" +\n",
    "               \"4 - Eliminar\\n\" +\n",
    "               \"5 - Atras\\n\")\n",
    "            crud = (input(\"Elija una opción (números): \"))\n",
    "    \n",
    "        def opcion_cine():\n",
    "            opciones_cine = {\n",
    "                \"1\": Cine().guardar(),\n",
    "                \"2\": Cine().leer(),\n",
    "                \"3\": Cine().actualizar()\n",
    "            }\n",
    "            return opciones_cine[crud]\n",
    "        return opcion_cine()\n",
    "    \n",
    "    def peliculas():\n",
    "        if(opcion_inicial == \"2\"):\n",
    "            print(\"----- PELÍCULAS -----\\n\" +\n",
    "               \"1 - Guardar\\n\" +\n",
    "               \"2 - Leer\\n\" +\n",
    "               \"3 - Actualizar\\n\" +\n",
    "               \"4 - Eliminar\\n\" +\n",
    "               \"5 - Atras\\n\")\n",
    "            crud = (input(\"Elija una opción (números): \"))\n",
    "            \n",
    "    def opcion_seleccionada():\n",
    "        opciones =  {\n",
    "            \"1\": cines(),\n",
    "            \"2\": peliculas()\n",
    "        }\n",
    "        return opciones[opcion_inicial]\n",
    "                \n",
    "    return opcion_seleccionada()   "
   ]
  },
  {
   "cell_type": "code",
   "execution_count": null,
   "metadata": {
    "scrolled": false
   },
   "outputs": [],
   "source": []
  },
  {
   "cell_type": "code",
   "execution_count": null,
   "metadata": {},
   "outputs": [],
   "source": [
    "#Cine().archivo_cines(\"Guardar\")"
   ]
  },
  {
   "cell_type": "code",
   "execution_count": null,
   "metadata": {},
   "outputs": [],
   "source": []
  },
  {
   "cell_type": "code",
   "execution_count": null,
   "metadata": {},
   "outputs": [],
   "source": []
  },
  {
   "cell_type": "code",
   "execution_count": 1,
   "metadata": {},
   "outputs": [
    {
     "name": "stdout",
     "output_type": "stream",
     "text": [
      "d\n"
     ]
    },
    {
     "data": {
      "text/plain": [
       "6"
      ]
     },
     "execution_count": 1,
     "metadata": {},
     "output_type": "execute_result"
    }
   ],
   "source": [
    "def calculadora(num_uno, num_dos, operacion = \"suma\"):\n",
    "    def suma():\n",
    "        print (\"d\");\n",
    "        return num_uno + num_dos\n",
    "    def resta():\n",
    "        return num_uno - num_dos\n",
    "    def multiplicacion():\n",
    "        return num_uno * num_dos\n",
    "    def division():\n",
    "        return num_uno / num_dos\n",
    "    def opcion_seleccionada():\n",
    "        opciones =  {\n",
    "            \"suma\":  suma(),\n",
    "            \"resta\": resta(),\n",
    "            \"multiplicacion\": multiplicacion(),\n",
    "            \"division\": division()\n",
    "        }\n",
    "        return opciones[operacion]\n",
    "                \n",
    "    return opcion_seleccionada()\n",
    "\n",
    "calculadora(3, 2, \"multiplicacion\")"
   ]
  },
  {
   "cell_type": "code",
   "execution_count": null,
   "metadata": {},
   "outputs": [],
   "source": []
  },
  {
   "cell_type": "code",
   "execution_count": null,
   "metadata": {},
   "outputs": [],
   "source": []
  },
  {
   "cell_type": "code",
   "execution_count": null,
   "metadata": {},
   "outputs": [],
   "source": []
  }
 ],
 "metadata": {
  "kernelspec": {
   "display_name": "Python 3",
   "language": "python",
   "name": "python3"
  },
  "language_info": {
   "codemirror_mode": {
    "name": "ipython",
    "version": 3
   },
   "file_extension": ".py",
   "mimetype": "text/x-python",
   "name": "python",
   "nbconvert_exporter": "python",
   "pygments_lexer": "ipython3",
   "version": "3.7.3"
  }
 },
 "nbformat": 4,
 "nbformat_minor": 2
}
