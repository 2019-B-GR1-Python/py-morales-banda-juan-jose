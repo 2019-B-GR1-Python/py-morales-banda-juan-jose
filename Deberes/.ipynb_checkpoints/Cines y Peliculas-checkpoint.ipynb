{
 "cells": [
  {
   "cell_type": "code",
   "execution_count": 48,
   "metadata": {},
   "outputs": [
    {
     "name": "stdout",
     "output_type": "stream",
     "text": [
      "e\n",
      "Ciudad: Quito\n",
      "Nombre: Supercines\n",
      "Sala: 3\n",
      "Precio: 10\n"
     ]
    }
   ],
   "source": [
    "class Cine:\n",
    "    ciudad = \"\"\n",
    "    nombre = \"\"\n",
    "    sala = 1\n",
    "    precio = 0\n",
    "    \n",
    "    def __init__(self, ciudad, nombre, sala, precio):\n",
    "        self.ciudad = ciudad\n",
    "        self.nombre = nombre\n",
    "        self.sala = sala\n",
    "        self.precio = precio\n",
    "    \n",
    "    def mostrar_datos(self):\n",
    "        print(f\"Ciudad: {self.ciudad}\\n\" + \n",
    "              f\"Nombre: {self.nombre}\\n\" +\n",
    "              f\"Sala: {self.sala}\\n\" +\n",
    "              f\"Precio: {self.precio}\")\n",
    "               \n",
    "\n",
    "nuevo_cine = Cine(\"Quito\",\"Supercines\",3,10)\n",
    "nuevo_cine.mostrar_datos()\n",
    "\n",
    "    \n",
    "    "
   ]
  },
  {
   "cell_type": "code",
   "execution_count": null,
   "metadata": {},
   "outputs": [],
   "source": [
    "def archivo_cines():\n",
    "    try:\n",
    "        path = \"./Frases.txt\"\n",
    "        archivo_abierto = open(path)\n",
    "        linea_uno = archivo_abierto.readline()\n",
    "        print(f\"L1: {linea_uno}\")\n",
    "        linea_dos = archivo_abierto.readline()\n",
    "        print(f\"L2: {linea_dos}\")\n",
    "        linea_tres = archivo_abierto.readline()\n",
    "        print(f\"L3: {linea_tres}\")\n",
    "        linea_cuatro = archivo_abierto.readline()\n",
    "        print(f\"L4: {linea_cuatro}\")\n",
    "        print(type(linea_cuatro))\n",
    "        archivo_abierto.close()\n",
    "    \n",
    "    except Exception as error:\n",
    "        print(\"Error\")\n",
    "    \n",
    "    def suma():\n",
    "        return num_uno + num_dos\n",
    "    def resta():\n",
    "        return num_uno - num_dos\n",
    "    def multiplicacion():\n",
    "        return num_uno * num_dos\n",
    "    def division():\n",
    "        return num_uno / num_dos\n",
    "    def opcion_seleccionada():      \n",
    "        opciones =  {\n",
    "            \"suma\":  suma(),\n",
    "            \"resta\": resta(),\n",
    "            \"multiplicacion\": multiplicacion(),\n",
    "            \"division\": division()\n",
    "        }\n",
    "        return opciones[operacion]\n",
    "                \n",
    "    return opcion_seleccionada()\n",
    "\n",
    "calculadora(3, 2, \"multiplicacion\")"
   ]
  },
  {
   "cell_type": "code",
   "execution_count": null,
   "metadata": {},
   "outputs": [],
   "source": []
  },
  {
   "cell_type": "code",
   "execution_count": null,
   "metadata": {},
   "outputs": [],
   "source": []
  },
  {
   "cell_type": "code",
   "execution_count": null,
   "metadata": {},
   "outputs": [],
   "source": []
  }
 ],
 "metadata": {
  "kernelspec": {
   "display_name": "Python 3",
   "language": "python",
   "name": "python3"
  },
  "language_info": {
   "codemirror_mode": {
    "name": "ipython",
    "version": 3
   },
   "file_extension": ".py",
   "mimetype": "text/x-python",
   "name": "python",
   "nbconvert_exporter": "python",
   "pygments_lexer": "ipython3",
   "version": "3.7.3"
  }
 },
 "nbformat": 4,
 "nbformat_minor": 2
}
