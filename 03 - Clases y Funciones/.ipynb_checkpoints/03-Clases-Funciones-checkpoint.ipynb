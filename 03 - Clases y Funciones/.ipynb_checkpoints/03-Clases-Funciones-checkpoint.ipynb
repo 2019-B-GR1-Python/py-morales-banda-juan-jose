{
 "cells": [
  {
   "cell_type": "code",
   "execution_count": 1,
   "metadata": {},
   "outputs": [
    {
     "data": {
      "text/plain": [
       "4"
      ]
     },
     "execution_count": 1,
     "metadata": {},
     "output_type": "execute_result"
    }
   ],
   "source": [
    "def elevar_al_cuadrado(numero):\n",
    "    return numero*numero\n",
    "elevar_al_cuadrado(2)"
   ]
  },
  {
   "cell_type": "code",
   "execution_count": 3,
   "metadata": {},
   "outputs": [
    {
     "data": {
      "text/plain": [
       "4"
      ]
     },
     "execution_count": 3,
     "metadata": {},
     "output_type": "execute_result"
    }
   ],
   "source": [
    "elevar_al_cuadrado_lambda = lambda numero: numero*numero\n",
    "elevar_al_cuadrado_lambda(2)"
   ]
  },
  {
   "cell_type": "code",
   "execution_count": 4,
   "metadata": {},
   "outputs": [
    {
     "name": "stdout",
     "output_type": "stream",
     "text": [
      "Palabra: hola\n"
     ]
    }
   ],
   "source": [
    "imprimir_lambda = lambda palabra: print (f\"Palabra: {palabra}\")\n",
    "imprimir_lambda(\"hola\")"
   ]
  },
  {
   "cell_type": "code",
   "execution_count": 5,
   "metadata": {},
   "outputs": [
    {
     "data": {
      "text/plain": [
       "3"
      ]
     },
     "execution_count": 5,
     "metadata": {},
     "output_type": "execute_result"
    }
   ],
   "source": [
    "suma_dos_numeros_lambda = lambda num1, num2: num1+num2\n",
    "suma_dos_numeros_lambda(1,2)"
   ]
  },
  {
   "cell_type": "code",
   "execution_count": 7,
   "metadata": {},
   "outputs": [
    {
     "name": "stdout",
     "output_type": "stream",
     "text": [
      "<__main__.Nada object at 0x000002970E20DDA0>\n",
      "<class '__main__.Nada'>\n"
     ]
    }
   ],
   "source": [
    "# Clase\n",
    "class Nada:\n",
    "    pass\n",
    "una_nada = Nada()\n",
    "print(una_nada)\n",
    "print(type(una_nada))"
   ]
  },
  {
   "cell_type": "code",
   "execution_count": 40,
   "metadata": {},
   "outputs": [
    {
     "name": "stdout",
     "output_type": "stream",
     "text": [
      "Empezó el constructor\n",
      "None\n",
      "Amazul\n",
      "False\n",
      "2\n",
      "Color: Amazul\n",
      "Chasis: 2\n"
     ]
    }
   ],
   "source": [
    "class Auto:\n",
    "    color = None\n",
    "    __numero_chasis = 2\n",
    "    _emitido = False\n",
    "    \n",
    "    # Constructor:\n",
    "    def __init__(self, color): # self = this\n",
    "        print(\"Empezó el constructor\")\n",
    "        print(self.color)\n",
    "        self.color = color\n",
    "        \n",
    "    def __str__(self):\n",
    "        return(f\"Color: {self.color}\\n\" +\n",
    "               f\"Chasis: {self.__numero_chasis}\")\n",
    "        \n",
    "    def numero_chasis_impuesto(self):\n",
    "        return self.__calcular_impuesto()\n",
    "    \n",
    "    def __calcular_impuesto():\n",
    "        return 14 * self.__numero_chasis\n",
    "        \n",
    "nuevo_auto = Auto(\"Amazul\")\n",
    "print(nuevo_auto.color)\n",
    "#print(nuevo_auto.__numero_chasis) \n",
    "print(nuevo_auto._emitido)\n",
    "print(nuevo_auto._Auto__numero_chasis)\n",
    "print(nuevo_auto)\n",
    "#print(nuevo_auto.numero_chasis_impuesto)"
   ]
  },
  {
   "cell_type": "code",
   "execution_count": 42,
   "metadata": {},
   "outputs": [
    {
     "name": "stdout",
     "output_type": "stream",
     "text": [
      "Inicializando BMW\n",
      "Empezó el constructor\n",
      "None\n",
      "Color: Blanco\n",
      "Chasis: 2\n"
     ]
    }
   ],
   "source": [
    "# Herencia\n",
    "class BMW(Auto):\n",
    "    def __init__(self, color = \"Blanco\"):\n",
    "        print(\"Inicializando BMW\")\n",
    "        super().__init__(color)\n",
    "\n",
    "carrito = BMW()\n",
    "print(carrito)    "
   ]
  },
  {
   "cell_type": "code",
   "execution_count": 54,
   "metadata": {},
   "outputs": [
    {
     "data": {
      "text/plain": [
       "1.5"
      ]
     },
     "execution_count": 54,
     "metadata": {},
     "output_type": "execute_result"
    }
   ],
   "source": [
    "# Funciones dentro de funciones\n",
    "def calculadora(num_uno, num_dos, operacion = \"suma\"):\n",
    "    def suma():\n",
    "        return num_uno + num_dos\n",
    "    def resta():\n",
    "        return num_uno - num_dos\n",
    "    def multiplicacion():\n",
    "        return num_uno * num_dos\n",
    "    def division():\n",
    "        return num_uno / num_dos\n",
    "    def opcion_seleccionada():\n",
    "        \"\"\" manera más pro de hacer el switch case:\n",
    "        return {\n",
    "            \"suma\":  suma(),\n",
    "            \"resta\": resta(),\n",
    "            \"multiplicacion\": multiplicacion(),\n",
    "            \"division\": division()\n",
    "        }[operacion]\n",
    "        \"\"\"\n",
    "        \n",
    "        opciones =  {\n",
    "            \"suma\":  suma(),\n",
    "            \"resta\": resta(),\n",
    "            \"multiplicacion\": multiplicacion(),\n",
    "            \"division\": division()\n",
    "        }\n",
    "        return opciones[operacion]\n",
    "                \n",
    "    return opcion_seleccionada()\n",
    "\n",
    "calculadora(3, 2, \"multiplicacion\")"
   ]
  },
  {
   "cell_type": "code",
   "execution_count": null,
   "metadata": {},
   "outputs": [],
   "source": []
  },
  {
   "cell_type": "code",
   "execution_count": null,
   "metadata": {},
   "outputs": [],
   "source": []
  }
 ],
 "metadata": {
  "kernelspec": {
   "display_name": "Python 3",
   "language": "python",
   "name": "python3"
  },
  "language_info": {
   "codemirror_mode": {
    "name": "ipython",
    "version": 3
   },
   "file_extension": ".py",
   "mimetype": "text/x-python",
   "name": "python",
   "nbconvert_exporter": "python",
   "pygments_lexer": "ipython3",
   "version": "3.7.3"
  }
 },
 "nbformat": 4,
 "nbformat_minor": 2
}
